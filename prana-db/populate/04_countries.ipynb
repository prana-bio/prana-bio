{
 "cells": [
  {
   "cell_type": "code",
   "execution_count": 21,
   "metadata": {},
   "outputs": [
    {
     "name": "stdout",
     "output_type": "stream",
     "text": [
      "All records inserted successfully\n"
     ]
    }
   ],
   "source": [
    "import psycopg2\n",
    "import os\n",
    "from dotenv import load_dotenv\n",
    "import uuid\n",
    "import pandas as pd\n",
    "\n",
    "# Load environment variables\n",
    "load_dotenv()\n",
    "\n",
    "# Database connection parameters\n",
    "dbname = os.getenv(\"DB_NAME\")\n",
    "user = os.getenv(\"DB_USER\")\n",
    "password = os.getenv(\"DB_PASSWORD\")\n",
    "host = os.getenv(\"DB_HOST\")\n",
    "port = os.getenv(\"DB_PORT\")  # Ensure you have DB_PORT in your .env file\n",
    "\n",
    "# Path to your CSV file\n",
    "csv_file_path = '../data/countries.csv'\n",
    "\n",
    "# Read CSV file into DataFrame\n",
    "df_countries = pd.read_csv(csv_file_path)\n",
    "\n",
    "# Establishing Database Connection\n",
    "try:\n",
    "    conn = psycopg2.connect(dbname=dbname, user=user, password=password, host=host, port=port)\n",
    "    cursor = conn.cursor()\n",
    "\n",
    "    # Iterate over DataFrame rows\n",
    "    for index, row in df_countries.iterrows():\n",
    "      # Ensure all values are strings and escape single quotes\n",
    "      name = str(row['name']).replace(\"'\", \"''\") if pd.notna(row['name']) else ''\n",
    "      iso_alpha2 = str(row['alpha-2']).replace(\"'\", \"''\") if pd.notna(row['alpha-2']) else ''\n",
    "      iso_alpha3 = str(row['alpha-3']).replace(\"'\", \"''\") if pd.notna(row['alpha-3']) else ''\n",
    "      region = str(row['region']).replace(\"'\", \"''\") if pd.notna(row['region']) else ''\n",
    "      sub_region = str(row['sub-region']).replace(\"'\", \"''\") if pd.notna(row['sub-region']) else ''\n",
    "\n",
    "      # Convert country-code to string or use NULL for NaN\n",
    "      country_code = str(row['country-code']) if pd.notna(row['country-code']) else 'NULL'\n",
    "\n",
    "      # Generate UUID for each country\n",
    "      country_id = uuid.uuid4()\n",
    "\n",
    "      # Prepare the SQL INSERT statement\n",
    "      sql_statement = f\"\"\"\n",
    "      INSERT INTO countries (country_id, name, iso_alpha2, iso_alpha3, country_code, region, sub_region, created, updated)\n",
    "      VALUES ('{country_id}', '{name}', '{iso_alpha2}', '{iso_alpha3}', {country_code}, '{region}', '{sub_region}', CURRENT_TIMESTAMP, CURRENT_TIMESTAMP);\n",
    "      \"\"\"\n",
    "\n",
    "      # Execute the SQL statement\n",
    "      cursor.execute(sql_statement)\n",
    "\n",
    "    # Commit the transaction\n",
    "    conn.commit()\n",
    "    print(\"All records inserted successfully\")\n",
    "\n",
    "except Exception as e:\n",
    "    print(f\"Error: {e}\")\n",
    "\n",
    "finally:\n",
    "    # Close the cursor and connection\n",
    "    if conn:\n",
    "        cursor.close()\n",
    "        conn.close()\n"
   ]
  }
 ],
 "metadata": {
  "kernelspec": {
   "display_name": "biodiversity",
   "language": "python",
   "name": "python3"
  },
  "language_info": {
   "codemirror_mode": {
    "name": "ipython",
    "version": 3
   },
   "file_extension": ".py",
   "mimetype": "text/x-python",
   "name": "python",
   "nbconvert_exporter": "python",
   "pygments_lexer": "ipython3",
   "version": "3.9.2"
  }
 },
 "nbformat": 4,
 "nbformat_minor": 2
}
