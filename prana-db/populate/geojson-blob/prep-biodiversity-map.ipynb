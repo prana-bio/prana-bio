{
 "cells": [
  {
   "cell_type": "code",
   "execution_count": 1,
   "metadata": {},
   "outputs": [],
   "source": [
    "import pandas as pd\n",
    "import psycopg2\n",
    "import os\n",
    "import uuid\n",
    "import logging\n",
    "from dotenv import load_dotenv\n",
    "\n",
    "load_dotenv()\n",
    "\n",
    "dbname = os.getenv(\"DB_NAME\")\n",
    "user = os.getenv(\"DB_USER\")\n",
    "password = os.getenv(\"DB_PASSWORD\")\n",
    "host = os.getenv(\"DB_HOST\")\n",
    "port = os.getenv(\"DB_PORT\")"
   ]
  },
  {
   "cell_type": "code",
   "execution_count": 2,
   "metadata": {},
   "outputs": [],
   "source": [
    "# get countries_biodiversity_rankings data\n",
    "\n",
    "conn = psycopg2.connect(dbname=dbname, user=user, password=password, host=host, port=port)\n",
    "cursor = conn.cursor()\n",
    "\n",
    "countries_biodiversity_rankings = {}\n",
    "\n",
    "cursor.execute(f\"\"\"SELECT c.country_id, c.iso_alpha3, biodiversity_rank, amphibians, amphibians_rank,\n",
    "               birds, birds_rank, fish, fish_rank, mammals, mammals_rank, reptiles,\n",
    "               reptiles_rank, plants, plants_rank FROM countries_biodiversity_rankings cbr\n",
    "               LEFT JOIN countries c on c.country_id = cbr.country_id\"\"\")\n",
    "\n",
    "data = cursor.fetchall()\n",
    "for record in data:\n",
    "   countries_biodiversity_rankings[record[0]] = record[1]\n",
    "\n",
    "cursor.close()\n",
    "conn.close()\n",
    "\n",
    "countries_biodiversity_rankings_df = pd.DataFrame(data, columns=['country_id', 'iso_alpha3', 'biodiversity_rank', 'amphibians', 'amphibians_rank', 'birds', \n",
    "                                                                 'birds_rank', 'fish', 'fish_rank', 'mammals', 'mammals_rank',\n",
    "                                                                 'reptiles', 'reptiles_rank', 'plants', 'plants_rank'])\n",
    "\n",
    "# countries_biodiversity_rankings_df.to_csv('../../data/geojson-blob/countries_biodiversity_rankings_nile.csv', index=False)"
   ]
  },
  {
   "cell_type": "code",
   "execution_count": 15,
   "metadata": {},
   "outputs": [],
   "source": [
    "import pandas as pd\n",
    "import json\n",
    "\n",
    "# Load GeoJSON data from file\n",
    "geojson_file_path = '../../data/geojson-blob/countries.geojson'\n",
    "with open(geojson_file_path, 'r') as geojson_file:\n",
    "    geojson_data = json.load(geojson_file)\n",
    "\n",
    "# Load CSV data from file\n",
    "csv_file_path = '../../data/geojson-blob/countries_biodiversity_rankings_nile.csv'  # Ensure this is the correct path\n",
    "csv_data = pd.read_csv(csv_file_path)\n",
    "\n",
    "# Iterate over GeoJSON features and update properties\n",
    "for feature in geojson_data['features']:\n",
    "    iso_a3 = feature['properties']['ISO_A3']\n",
    "    # Find the matching row in the DataFrame using 'iso_alpha3'\n",
    "    matching_row = csv_data[csv_data['iso_alpha3'] == iso_a3]\n",
    "    if not matching_row.empty:\n",
    "        for column in matching_row.columns:\n",
    "            # Avoid adding the identifier columns to the GeoJSON properties\n",
    "            if column not in ['country_id', 'iso_alpha3']:\n",
    "                # Assign each column value from the matching row to the GeoJSON properties\n",
    "                feature['properties'][column] = matching_row.iloc[0][column].item()\n",
    "\n",
    "# Output the updated GeoJSON to a new file\n",
    "updated_geojson_file_path = '../../data/geojson-blob/countries_biodiversity_rankings.geojson'\n",
    "with open(updated_geojson_file_path, 'w') as f:\n",
    "    json.dump(geojson_data, f)"
   ]
  },
  {
   "cell_type": "markdown",
   "metadata": {},
   "source": [
    "Optimization"
   ]
  },
  {
   "cell_type": "code",
   "execution_count": 16,
   "metadata": {},
   "outputs": [],
   "source": [
    "# save as GZIP\n",
    "import gzip\n",
    "import shutil\n",
    "\n",
    "with open('../../data/geojson-blob/countries_biodiversity_rankings.geojson', 'rb') as f_in:\n",
    "    with gzip.open('../../data/geojson-blob/countries_biodiversity_rankings.geojson.gz', 'wb') as f_out:\n",
    "        shutil.copyfileobj(f_in, f_out)"
   ]
  },
  {
   "cell_type": "code",
   "execution_count": null,
   "metadata": {},
   "outputs": [],
   "source": [
    "# round to 5 decimal places\n",
    "import json\n",
    "\n",
    "def round_numbers(obj):\n",
    "    if isinstance(obj, dict):\n",
    "        for key, value in obj.items():\n",
    "            obj[key] = round_numbers(value)\n",
    "    elif isinstance(obj, list):\n",
    "        return [round_numbers(item) for item in obj]\n",
    "    elif isinstance(obj, float):\n",
    "        return round(obj, 5)\n",
    "    return obj\n",
    "\n",
    "# Load the GeoJSON file\n",
    "with open('../../data/geojson-blob/countries_biodiversity_rankings.geojson', 'r') as file:\n",
    "    data = json.load(file)\n",
    "\n",
    "# Round all numbers to 5 decimal places\n",
    "rounded_data = round_numbers(data)\n",
    "\n",
    "with open('../../data/geojson-blob/rounded_countries_biodiversity_rankings.geojson', 'w') as file:\n",
    "    json.dump(rounded_data, file, indent=4)"
   ]
  },
  {
   "cell_type": "code",
   "execution_count": 16,
   "metadata": {},
   "outputs": [],
   "source": [
    "# adding EPI properties (read in from public)\n",
    "# Load the GeoJSON file\n",
    "import json\n",
    "with open('../../../prana-next/public/countries_biodiversity_rankings.geojson', 'r') as file:\n",
    "    geo = json.load(file)"
   ]
  },
  {
   "cell_type": "code",
   "execution_count": 17,
   "metadata": {},
   "outputs": [
    {
     "name": "stdout",
     "output_type": "stream",
     "text": [
      "     iso_alpha3 epi_name  score\n",
      "0           AFG      BHV   41.9\n",
      "1           AFG      SHI   90.8\n",
      "2           AFG      SPI   13.4\n",
      "3           AFG      PAR    5.2\n",
      "4           AFG      MPA    NaN\n",
      "...         ...      ...    ...\n",
      "1075        ZWE      SHI   91.2\n",
      "1076        ZWE      SPI   80.1\n",
      "1077        ZWE      PAR   57.2\n",
      "1078        ZWE      MPA    NaN\n",
      "1079        ZWE      RMS    NaN\n",
      "\n",
      "[1080 rows x 3 columns]\n"
     ]
    }
   ],
   "source": [
    "# get countries_epis data\n",
    "\n",
    "conn = psycopg2.connect(dbname=dbname, user=user, password=password, host=host, port=port)\n",
    "cursor = conn.cursor()\n",
    "\n",
    "countries_biodiversity_rankings = {}\n",
    "\n",
    "cursor.execute(f\"\"\"select c.iso_alpha3, e.abbreviation, ce.score from \"countries_epis\" ce\n",
    "left join countries c on ce.country_id = c.country_id\n",
    "left join epis e on ce.epi_id = e.epi_id;\"\"\")\n",
    "\n",
    "data = cursor.fetchall()\n",
    "for record in data:\n",
    "   countries_biodiversity_rankings[record[0]] = record[1]\n",
    "\n",
    "cursor.close()\n",
    "conn.close()\n",
    "\n",
    "df = pd.DataFrame(data, columns=['iso_alpha3', 'epi_name', 'score'])\n",
    "\n",
    "print(df)"
   ]
  },
  {
   "cell_type": "code",
   "execution_count": 19,
   "metadata": {},
   "outputs": [],
   "source": [
    "import json\n",
    "import pandas as pd\n",
    "from copy import deepcopy\n",
    "\n",
    "# Load the original GeoJSON file\n",
    "with open('../../../prana-next/public/countries_biodiversity_rankings.geojson', 'r') as file:\n",
    "    geo = json.load(file)\n",
    "\n",
    "# Make a deep copy of the original GeoJSON to work with\n",
    "geo_copy = deepcopy(geo)\n",
    "\n",
    "# Iterate over each country (feature) in the GeoJSON\n",
    "for feature in geo_copy['features']:\n",
    "    iso_a3 = feature['properties']['ISO_A3']\n",
    "    \n",
    "    # For each unique EPI name in your DataFrame, add a placeholder if not present\n",
    "    for epi in df['epi_name'].unique():\n",
    "        if epi not in feature['properties']:\n",
    "            feature['properties'][epi] = None  # Placeholder for new properties\n",
    "\n",
    "# Now, populate the actual scores from the DataFrame\n",
    "for index, row in df.iterrows():\n",
    "    iso_a3 = row['iso_alpha3']\n",
    "    epi_name = row['epi_name']\n",
    "    score = row['score']\n",
    "    \n",
    "    # Here, we replace NaN values with None. Adjust if you prefer a different placeholder.\n",
    "    score = None if pd.isnull(score) else score\n",
    "    \n",
    "    # Match each feature by ISO_A3 and update its properties\n",
    "    for feature in geo_copy['features']:\n",
    "        if feature['properties']['ISO_A3'] == iso_a3:\n",
    "            feature['properties'][epi_name] = score\n",
    "\n",
    "# Prepare the updated GeoJSON for saving, ensuring no NaN values are present\n",
    "with open('../../../prana-next/public/updated_countries_biodiversity_rankings.geojson', 'w', encoding='utf-8') as file:\n",
    "    json.dump(geo_copy, file, ensure_ascii=False, indent=4)\n"
   ]
  }
 ],
 "metadata": {
  "kernelspec": {
   "display_name": "biodiversity",
   "language": "python",
   "name": "python3"
  },
  "language_info": {
   "codemirror_mode": {
    "name": "ipython",
    "version": 3
   },
   "file_extension": ".py",
   "mimetype": "text/x-python",
   "name": "python",
   "nbconvert_exporter": "python",
   "pygments_lexer": "ipython3",
   "version": "3.9.2"
  }
 },
 "nbformat": 4,
 "nbformat_minor": 2
}
