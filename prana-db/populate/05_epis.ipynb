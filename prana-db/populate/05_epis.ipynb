{
 "cells": [
  {
   "cell_type": "code",
   "execution_count": 24,
   "metadata": {},
   "outputs": [
    {
     "name": "stdout",
     "output_type": "stream",
     "text": [
      "All records inserted successfully\n"
     ]
    }
   ],
   "source": [
    "import psycopg2\n",
    "import os\n",
    "from dotenv import load_dotenv\n",
    "import uuid\n",
    "import pandas as pd\n",
    "\n",
    "# Load environment variables\n",
    "load_dotenv()\n",
    "\n",
    "# Database connection parameters\n",
    "dbname = os.getenv(\"DB_NAME\")\n",
    "user = os.getenv(\"DB_USER\")\n",
    "password = os.getenv(\"DB_PASSWORD\")\n",
    "host = os.getenv(\"DB_HOST\")\n",
    "port = os.getenv(\"DB_PORT\")\n",
    "\n",
    "# Path to your EPIs CSV file\n",
    "csv_file_path = '../data/epis.csv'  # Update to the correct path\n",
    "\n",
    "# Read CSV file into DataFrame\n",
    "df_epis = pd.read_csv(csv_file_path)\n",
    "\n",
    "# Establishing Database Connection\n",
    "try:\n",
    "    conn = psycopg2.connect(dbname=dbname, user=user, password=password, host=host, port=port)\n",
    "    cursor = conn.cursor()\n",
    "\n",
    "    for index, row in df_epis.iterrows():\n",
    "      # Check and convert to string only if it's not NaN and is a string\n",
    "      description = row['description'].replace(\"'\", \"''\") if pd.notna(row['description']) and isinstance(row['description'], str) else ''\n",
    "      # Apply the same logic to other string fields\n",
    "      name = row['name'].replace(\"'\", \"''\") if pd.notna(row['name']) and isinstance(row['name'], str) else ''\n",
    "      abbreviation = row['abbreviation'].replace(\"'\", \"''\") if pd.notna(row['abbreviation']) and isinstance(row['abbreviation'], str) else ''\n",
    "      data_credits_name = row['data_credits_name'].replace(\"'\", \"''\") if pd.notna(row['data_credits_name']) and isinstance(row['data_credits_name'], str) else ''\n",
    "      data_credits_url = row['data_credits_url'].replace(\"'\", \"''\") if pd.notna(row['data_credits_url']) and isinstance(row['data_credits_url'], str) else ''\n",
    "      \n",
    "\n",
    "      # Generate UUID for each EPI\n",
    "      epi_id = uuid.uuid4()\n",
    "\n",
    "      # Prepare the SQL INSERT statement\n",
    "      sql_statement = f\"\"\"\n",
    "      INSERT INTO epis (epi_id, name, abbreviation, description, data_credits_name, data_credits_url, created, updated)\n",
    "      VALUES ('{epi_id}', '{name}', '{abbreviation}', '{description}', '{data_credits_name}', '{data_credits_url}', CURRENT_TIMESTAMP, CURRENT_TIMESTAMP);\n",
    "      \"\"\"\n",
    "\n",
    "      # Execute the SQL statement\n",
    "      cursor.execute(sql_statement)\n",
    "\n",
    "    # Commit the transaction\n",
    "    conn.commit()\n",
    "    print(\"All records inserted successfully\")\n",
    "\n",
    "except Exception as e:\n",
    "    print(f\"Error: {e}\")\n",
    "\n",
    "finally:\n",
    "    # Close the cursor and connection\n",
    "    if conn:\n",
    "        cursor.close()\n",
    "        conn.close()\n"
   ]
  }
 ],
 "metadata": {
  "kernelspec": {
   "display_name": "biodiversity",
   "language": "python",
   "name": "python3"
  },
  "language_info": {
   "codemirror_mode": {
    "name": "ipython",
    "version": 3
   },
   "file_extension": ".py",
   "mimetype": "text/x-python",
   "name": "python",
   "nbconvert_exporter": "python",
   "pygments_lexer": "ipython3",
   "version": "3.9.2"
  }
 },
 "nbformat": 4,
 "nbformat_minor": 2
}
